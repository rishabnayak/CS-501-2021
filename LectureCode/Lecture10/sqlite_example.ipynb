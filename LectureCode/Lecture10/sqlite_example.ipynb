{
 "cells": [
  {
   "cell_type": "code",
   "execution_count": 4,
   "id": "84e5b7c7",
   "metadata": {},
   "outputs": [
    {
     "data": {
      "text/plain": [
       "<sqlite3.Cursor at 0x1cb8872a7a0>"
      ]
     },
     "execution_count": 4,
     "metadata": {},
     "output_type": "execute_result"
    }
   ],
   "source": [
    "import sqlite3\n",
    "import time \n",
    "con = sqlite3.connect('demo.db')\n",
    "cur = con.cursor()\n",
    "\n",
    "# Create table\n",
    "cur.execute('''CREATE TABLE agents\n",
    "               (agent_id text, ip_addr text, nickname text, first_seen real, last_seen real)''')"
   ]
  },
  {
   "cell_type": "code",
   "execution_count": 3,
   "id": "a22acc15",
   "metadata": {},
   "outputs": [],
   "source": [
    "#!powershell /c rm demo.db"
   ]
  },
  {
   "cell_type": "code",
   "execution_count": 5,
   "id": "4e97ce08",
   "metadata": {},
   "outputs": [],
   "source": [
    "now = time.time()\n",
    "cur.execute(f\"INSERT INTO agents VALUES ('asdf', '127.0.0.1', 'test',{now}, {now} )\")\n",
    "con.commit()"
   ]
  },
  {
   "cell_type": "code",
   "execution_count": 6,
   "id": "b9742545",
   "metadata": {},
   "outputs": [],
   "source": [
    "now = time.time()\n",
    "cur.execute(f\"INSERT INTO agents VALUES ('asdf-alternate', '127.0.0.2', 'test',{now}, {now} )\")\n",
    "con.commit()"
   ]
  },
  {
   "cell_type": "code",
   "execution_count": 11,
   "id": "abf3b5c4",
   "metadata": {},
   "outputs": [
    {
     "name": "stdout",
     "output_type": "stream",
     "text": [
      "('asdf', '127.0.0.1', 'test', 1633644088.4916742, 1633644088.4916742)\n",
      "('asdf-alternate', '127.0.0.2', 'test', 1633644092.0697217, 1633644092.0697217)\n"
     ]
    }
   ],
   "source": [
    " for row in cur.execute('SELECT* FROM agents ORDER BY last_seen'):\n",
    "        print(row)"
   ]
  },
  {
   "cell_type": "code",
   "execution_count": 12,
   "id": "45b6ee9f",
   "metadata": {},
   "outputs": [
    {
     "name": "stdout",
     "output_type": "stream",
     "text": [
      "('asdf', '127.0.0.1', 'test', 1633644088.4916742, 1633644088.4916742)\n"
     ]
    }
   ],
   "source": [
    "#hint: Do this. Prepared\n",
    "symbol = 'asdf'\n",
    "for i in cur.execute(\"SELECT * FROM agents WHERE agent_id = (?)\", (symbol,)):\n",
    "    print(i)"
   ]
  },
  {
   "cell_type": "code",
   "execution_count": null,
   "id": "ac86a991",
   "metadata": {},
   "outputs": [],
   "source": [
    "@app.request(\"/upload_json\", methods=[\"POST\"])\n",
    "def handle_upload():\n",
    "    json_data = request.json\n",
    "    data = json_data.get(\"data\")\n",
    "    raw_bytes = decode_data(data)\n",
    "    filename = json_data.get(\"filename\")\n",
    "    loot_path = \"static/\" + filename\n",
    "    with open(loot_path, 'wb+') as f:\n",
    "        f.write(raw_bytes)\n",
    "        print(\"I am 1337 and got wrote my loot to \", loot_path)\n",
    "    return jsonify({\"status\": \"ok\"})"
   ]
  }
 ],
 "metadata": {
  "kernelspec": {
   "display_name": "Python 3",
   "language": "python",
   "name": "python3"
  },
  "language_info": {
   "codemirror_mode": {
    "name": "ipython",
    "version": 3
   },
   "file_extension": ".py",
   "mimetype": "text/x-python",
   "name": "python",
   "nbconvert_exporter": "python",
   "pygments_lexer": "ipython3",
   "version": "3.9.5"
  }
 },
 "nbformat": 4,
 "nbformat_minor": 5
}
